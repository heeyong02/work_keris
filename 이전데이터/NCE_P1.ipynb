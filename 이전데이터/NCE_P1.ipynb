{
 "cells": [
  {
   "cell_type": "code",
   "execution_count": 1,
   "id": "1546d81a",
   "metadata": {},
   "outputs": [],
   "source": [
    "import pandas as pd"
   ]
  },
  {
   "cell_type": "code",
   "execution_count": 2,
   "id": "88146202",
   "metadata": {},
   "outputs": [],
   "source": [
    "df2 = pd.read_excel('과정 전체 데이터_20251022.xlsx')\n",
    "# 자연과학 인문사회 공학 광역 예체능 의학"
   ]
  },
  {
   "cell_type": "code",
   "execution_count": 3,
   "id": "4ed16c42",
   "metadata": {},
   "outputs": [],
   "source": [
    "# 결측치 제거\n",
    "df2 = df2.dropna(subset=['교육과정'])\n",
    "\n",
    "no_nce = df2[(df2['대계열분류'] != 'N.C.E') & (df2['중계열분류'] != 'N.C.E') & (df2['소계열분류'] != 'N.C.E') & (df2['소계열분류'] != 'N.C.E.')]\n",
    "no_nce = no_nce[no_nce['교육과정'] != 'nan']\n",
    "no_nce = no_nce.drop(columns = ['Unnamed: 0'])"
   ]
  },
  {
   "cell_type": "code",
   "execution_count": 4,
   "id": "61dfdcde",
   "metadata": {},
   "outputs": [],
   "source": [
    "def get_course_distribution(no_nce):\n",
    "    # ① 교육과정별, 대/중/소계열별 빈도 계산\n",
    "    grouped = (\n",
    "        no_nce\n",
    "        .groupby(['교육과정', '대계열분류', '중계열분류', '소계열분류'])\n",
    "        .size()\n",
    "        .reset_index(name='count')\n",
    "    )\n",
    "    \n",
    "    # ② 교육과정별 총 count 대비 비율 계산\n",
    "    grouped['비율'] = (\n",
    "        grouped.groupby('교육과정')['count']\n",
    "        .transform(lambda x: x / x.sum())\n",
    "    )\n",
    "    return grouped\n"
   ]
  },
  {
   "cell_type": "code",
   "execution_count": 5,
   "id": "5ffbe2c0",
   "metadata": {},
   "outputs": [],
   "source": [
    "grouped = get_course_distribution(no_nce)"
   ]
  },
  {
   "cell_type": "code",
   "execution_count": 6,
   "id": "231ae844",
   "metadata": {},
   "outputs": [],
   "source": [
    "grouped.to_excel('교육과정별 대중소 비율 값.xlsx')"
   ]
  }
 ],
 "metadata": {
  "kernelspec": {
   "display_name": "Python 3",
   "language": "python",
   "name": "python3"
  },
  "language_info": {
   "codemirror_mode": {
    "name": "ipython",
    "version": 3
   },
   "file_extension": ".py",
   "mimetype": "text/x-python",
   "name": "python",
   "nbconvert_exporter": "python",
   "pygments_lexer": "ipython3",
   "version": "3.11.9"
  }
 },
 "nbformat": 4,
 "nbformat_minor": 5
}
