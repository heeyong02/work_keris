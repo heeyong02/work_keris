{
 "cells": [
  {
   "cell_type": "code",
   "execution_count": 1,
   "id": "ba0ab38c",
   "metadata": {},
   "outputs": [],
   "source": [
    "import pandas as pd\n",
    "import numpy as np\n",
    "import os"
   ]
  },
  {
   "cell_type": "code",
   "execution_count": 2,
   "id": "05fbb7e5",
   "metadata": {},
   "outputs": [],
   "source": [
    "join_data = pd.read_excel('C:\\\\Users\\\\heeyo\\\\Desktop\\\\KERIS_2종\\\\교육편제단위_표준분류체계 결합.xlsx')\n",
    "nce_major = pd.read_excel('C:\\\\Users\\\\heeyo\\\\Desktop\\\\KERIS_2종\\\\NCE_major.xlsx')"
   ]
  },
  {
   "cell_type": "code",
   "execution_count": 3,
   "id": "b3cee3d8",
   "metadata": {},
   "outputs": [
    {
     "data": {
      "text/plain": [
       "Index(['조사년도', '조사차수', '학교명', '학교코드', '대학구분', '본분교', '단과대학코드', '학교구분',\n",
       "       '(대학)지역', '단과대학명', '학교별학과코드', '학부·과(전공)명', '주야구분코드', '주야간구분', '학부특성코드',\n",
       "       '학과특성', '학과상태', '교육과정', '대계열분류', '중계열분류', '소계열분류', '대학자체대계열', '수업연한',\n",
       "       '학위과정', '(학과)소재지', '(학과)소재지(상세)', '이수구분', '학점', '교과목해설'],\n",
       "      dtype='object')"
      ]
     },
     "execution_count": 3,
     "metadata": {},
     "output_type": "execute_result"
    }
   ],
   "source": [
    "join_data.columns"
   ]
  },
  {
   "cell_type": "code",
   "execution_count": 4,
   "id": "a8c23cf7",
   "metadata": {},
   "outputs": [
    {
     "data": {
      "text/plain": [
       "Index(['조사년도', '조사차수', '학교명', '학교코드', '대학구분', '본분교', '단과대학코드', '학교구분',\n",
       "       '(대학)지역', '단과대학명', '학교별학과코드', '학부·과(전공)명', '주야구분코드', '주야간구분', '학부특성코드',\n",
       "       '학과특성', '학과상태', '교육과정', '대계열분류', '중계열분류', '소계열분류', '대학자체대계열', '수업연한',\n",
       "       '학위과정', '(학과)소재지', '(학과)소재지(상세)', '이수구분', '학점', '교과목해설', '표본수 n'],\n",
       "      dtype='object')"
      ]
     },
     "execution_count": 4,
     "metadata": {},
     "output_type": "execute_result"
    }
   ],
   "source": [
    "nce_major.columns\n"
   ]
  },
  {
   "cell_type": "code",
   "execution_count": null,
   "id": "e31343ad",
   "metadata": {},
   "outputs": [
    {
     "name": "stdout",
     "output_type": "stream",
     "text": [
      "저장 완료: C:\\Users\\heeyo\\Desktop\\KERIS_2종\\교육과정_분류_카탈로그.xlsx\n"
     ]
    }
   ],
   "source": [
    "def build_catalog_with_anchor(nce_major: pd.DataFrame,\n",
    "                              join_data: pd.DataFrame,\n",
    "                              outpath: str):\n",
    "    # 1) NCE 학과 목록\n",
    "    anchors = nce_major[['학교명','학부·과(전공)명']].drop_duplicates()\n",
    "\n",
    "    # 2) NCE 학과별 교육과정 + 기존 분류\n",
    "    anchor_courses = (\n",
    "        join_data.merge(anchors, on=['학교명','학부·과(전공)명'], how='left')\n",
    "        [['학교명','학부·과(전공)명','대학자체대계열','교육과정',\n",
    "          '대계열분류','중계열분류','소계열분류']]\n",
    "        .dropna(subset=['교육과정']).drop_duplicates()\n",
    "    ).rename(columns={\n",
    "        '대계열분류':'nce_대계열분류',\n",
    "        '중계열분류':'nce_중계열분류',\n",
    "        '소계열분류':'nce_소계열분류'\n",
    "    })\n",
    "\n",
    "    # 3) 같은 교육과정을 가진 참고 케이스 (N.C.E. 아님)\n",
    "    refs = join_data[\n",
    "        join_data['교육과정'].isin(anchor_courses['교육과정'])\n",
    "        & (join_data[['대계열분류','중계열분류','소계열분류']] != 'N.C.E').all(axis=1)\n",
    "    ][['교육과정','학교명','학부·과(전공)명','대학자체대계열',\n",
    "       '대계열분류','중계열분류','소계열분류']].rename(columns={\n",
    "        '학교명':'참고_학교명',\n",
    "        '학부·과(전공)명':'참고_학부·과(전공)명',\n",
    "        '대학자체대계열':'참고_대학자체대계열',\n",
    "        '대계열분류':'참고_대계열분류',\n",
    "        '중계열분류':'참고_중계열분류',\n",
    "        '소계열분류':'참고_소계열분류'\n",
    "    })\n",
    "\n",
    "    # 4) NCE ↔ 참고 매칭\n",
    "    final_raw = anchor_courses.merge(refs, on='교육과정', how='left')\n",
    "\n",
    "    # 5) 빈도 집계\n",
    "    counts = (\n",
    "        final_raw.groupby([\n",
    "            '학교명','학부·과(전공)명','대학자체대계열','교육과정',\n",
    "            'nce_대계열분류','nce_중계열분류','nce_소계열분류',\n",
    "            '참고_대계열분류','참고_중계열분류','참고_소계열분류'\n",
    "        ]).size().reset_index(name='빈도')\n",
    "    )\n",
    "\n",
    "    # 6) 저장\n",
    "    os.makedirs(os.path.dirname(outpath), exist_ok=True)\n",
    "    with pd.ExcelWriter(outpath, engine='xlsxwriter') as w:\n",
    "        final_raw.to_excel(w, sheet_name='raw', index=False)\n",
    "        counts.to_excel(w, sheet_name='counts', index=False)\n",
    "\n",
    "    return final_raw, counts\n",
    "\n",
    "\n",
    "# 사용 예시\n",
    "outpath = r\"C:\\Users\\heeyo\\Desktop\\KERIS_2종\\교육과정_분류_카탈로그.xlsx\"\n",
    "raw, counts = build_catalog_with_anchor(nce_major, join_data, outpath)\n",
    "print(\"저장 완료:\", outpath)\n"
   ]
  },
  {
   "cell_type": "code",
   "execution_count": null,
   "id": "6ede7d6b",
   "metadata": {},
   "outputs": [],
   "source": []
  }
 ],
 "metadata": {
  "kernelspec": {
   "display_name": "Python 3",
   "language": "python",
   "name": "python3"
  },
  "language_info": {
   "codemirror_mode": {
    "name": "ipython",
    "version": 3
   },
   "file_extension": ".py",
   "mimetype": "text/x-python",
   "name": "python",
   "nbconvert_exporter": "python",
   "pygments_lexer": "ipython3",
   "version": "3.11.9"
  }
 },
 "nbformat": 4,
 "nbformat_minor": 5
}
