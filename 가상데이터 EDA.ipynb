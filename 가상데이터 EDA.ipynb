{
 "cells": [
  {
   "cell_type": "code",
   "execution_count": 4,
   "id": "33e6fef8",
   "metadata": {},
   "outputs": [
    {
     "name": "stdout",
     "output_type": "stream",
     "text": [
      "저장 완료: 모든파일_시트별_컬럼요약.xlsx\n"
     ]
    }
   ],
   "source": [
    "import pandas as pd\n",
    "import glob\n",
    "import os\n",
    "\n",
    "# 처리할 엑셀 파일들이 있는 폴더 지정\n",
    "folder_path = 'C:\\\\Users\\\\heeyo\\\\Desktop\\\\KERIS_2종\\\\가상데이터 관련 자료'\n",
    "file_list = glob.glob(os.path.join(folder_path, \"*.xlsx\"))  # 해당 폴더의 모든 xlsx 파일\n",
    "\n",
    "all_rows = []\n",
    "max_len = 0\n",
    "\n",
    "for file_path in file_list:\n",
    "    file_name = os.path.basename(file_path)  # 파일명만 추출\n",
    "    xls = pd.ExcelFile(file_path)\n",
    "    \n",
    "    for sheet in xls.sheet_names:\n",
    "        cols = list(pd.read_excel(file_path, sheet_name=sheet, nrows=0).columns)\n",
    "        row = [file_name, sheet] + cols\n",
    "        all_rows.append(row)\n",
    "        max_len = max(max_len, len(cols))\n",
    "\n",
    "# 컬럼 이름 정리\n",
    "col_names = [\"File\", \"Sheet\"] + [f\"Col_{i}\" for i in range(1, max_len + 1)]\n",
    "summary_df = pd.DataFrame(all_rows, columns=col_names)\n",
    "\n",
    "# 하나의 엑셀 파일로 저장\n",
    "output_path = \"모든파일_시트별_컬럼요약.xlsx\"\n",
    "summary_df.to_excel(output_path, index=False)\n",
    "\n",
    "print(f\"저장 완료: {output_path}\")\n"
   ]
  },
  {
   "cell_type": "code",
   "execution_count": null,
   "id": "c0b15301",
   "metadata": {},
   "outputs": [],
   "source": []
  }
 ],
 "metadata": {
  "kernelspec": {
   "display_name": "Python 3",
   "language": "python",
   "name": "python3"
  },
  "language_info": {
   "codemirror_mode": {
    "name": "ipython",
    "version": 3
   },
   "file_extension": ".py",
   "mimetype": "text/x-python",
   "name": "python",
   "nbconvert_exporter": "python",
   "pygments_lexer": "ipython3",
   "version": "3.11.9"
  }
 },
 "nbformat": 4,
 "nbformat_minor": 5
}
